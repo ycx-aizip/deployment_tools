{
 "cells": [
  {
   "cell_type": "code",
   "execution_count": 2,
   "metadata": {},
   "outputs": [],
   "source": [
    "import re\n",
    "import json\n",
    "\n",
    "def parse_build_log(file_path):\n",
    "    include_paths = set()\n",
    "    defines = set()\n",
    "\n",
    "    with open(file_path, 'r') as file:\n",
    "        for line in file:\n",
    "            # Extract include paths\n",
    "            include_matches = re.findall(r'-I\\s*([^\\s]+)', line)\n",
    "            for match in include_matches:\n",
    "                include_paths.add(match)\n",
    "\n",
    "            # Extract defines\n",
    "            define_matches = re.findall(r'-D\\s*([^\\s]+)', line)\n",
    "            for match in define_matches:\n",
    "                defines.add(match)\n",
    "\n",
    "    return include_paths, defines\n",
    "\n",
    "def generate_c_cpp_properties_json(include_paths, defines, compiler_path):\n",
    "    # Sort include paths alphabetically\n",
    "    sorted_include_paths = sorted(include_paths)\n",
    "\n",
    "    config = {\n",
    "        \"configurations\": [\n",
    "            {\n",
    "                \"name\": \"qualcomm_anomalydetect_qcx217\",\n",
    "                \"includePath\": sorted_include_paths,\n",
    "                \"defines\": list(defines),\n",
    "                \"compilerPath\": compiler_path,\n",
    "                \"cStandard\": \"gnu99\",\n",
    "                \"cppStandard\": \"c++11\",\n",
    "                \"intelliSenseMode\": \"gcc-arm\"\n",
    "            }\n",
    "        ],\n",
    "        \"version\": 4\n",
    "    }\n",
    "    # The generated .json will be merged to the main c_cpp_properties.json file\n",
    "    with open('.vscode/c_cpp_properties_temp.json', 'w') as json_file:\n",
    "        json.dump(config, json_file, indent=4)\n",
    "\n",
    "if __name__ == \"__main__\":\n",
    "    build_log_path = 'gccout/qcx217_0h00_qcx217/ap/outbuildlog.txt'\n",
    "    compiler_path = 'C:/Apps/ARMGCC/bin/arm-none-eabi-gcc'\n",
    "\n",
    "    include_paths, defines = parse_build_log(build_log_path)\n",
    "    generate_c_cpp_properties_json(include_paths, defines, compiler_path)"
   ]
  }
 ],
 "metadata": {
  "kernelspec": {
   "display_name": "env_anomalydetect",
   "language": "python",
   "name": "python3"
  },
  "language_info": {
   "codemirror_mode": {
    "name": "ipython",
    "version": 3
   },
   "file_extension": ".py",
   "mimetype": "text/x-python",
   "name": "python",
   "nbconvert_exporter": "python",
   "pygments_lexer": "ipython3",
   "version": "3.10.14"
  }
 },
 "nbformat": 4,
 "nbformat_minor": 2
}
